{
 "cells": [
  {
   "cell_type": "markdown",
   "metadata": {},
   "source": [
    "# Credit Card Lead Prediction\n",
    "\n",
    "Happy Customer Bank is a mid-sized private bank that deals in all kinds of banking products, like Savings accounts, Current accounts, investment products, credit products, among other offerings.\n",
    "\n",
    "\n",
    "\n",
    "The bank also cross-sells products to its existing customers and to do so they use different kinds of communication like tele-calling, e-mails, recommendations on net banking, mobile banking, etc. \n",
    "\n",
    "\n",
    "\n",
    "In this case, the Happy Customer Bank wants to cross sell its credit cards to its existing customers. The bank has identified a set of customers that are eligible for taking these credit cards.\n",
    "\n",
    "\n",
    "\n",
    "Now, the bank is looking for your help in identifying customers that could show higher intent towards a recommended credit card, given:\n",
    "\n",
    "Customer details (gender, age, region etc.)\n",
    "Details of his/her relationship with the bank (Channel_Code,Vintage, 'Avg_Asset_Value etc.)"
   ]
  },
  {
   "cell_type": "markdown",
   "metadata": {},
   "source": [
    "# Importing Libraries "
   ]
  },
  {
   "cell_type": "code",
   "execution_count": 1,
   "metadata": {},
   "outputs": [],
   "source": [
    "#import libraries\n",
    "import pandas as pd\n",
    "import numpy as np\n",
    "import matplotlib.pyplot as plt\n",
    "%matplotlib inline\n",
    "import seaborn as sns\n",
    "import warnings\n",
    "warnings.filterwarnings('ignore')"
   ]
  },
  {
   "cell_type": "markdown",
   "metadata": {},
   "source": [
    "# Import dataset"
   ]
  },
  {
   "cell_type": "code",
   "execution_count": 2,
   "metadata": {},
   "outputs": [],
   "source": [
    "train = pd.read_csv('train_s3TEQDk.csv')\n",
    "test  = pd.read_csv('test_mSzZ8RL.csv')"
   ]
  },
  {
   "cell_type": "markdown",
   "metadata": {},
   "source": [
    "# EDA"
   ]
  },
  {
   "cell_type": "code",
   "execution_count": 3,
   "metadata": {},
   "outputs": [
    {
     "data": {
      "text/html": [
       "<div>\n",
       "<style scoped>\n",
       "    .dataframe tbody tr th:only-of-type {\n",
       "        vertical-align: middle;\n",
       "    }\n",
       "\n",
       "    .dataframe tbody tr th {\n",
       "        vertical-align: top;\n",
       "    }\n",
       "\n",
       "    .dataframe thead th {\n",
       "        text-align: right;\n",
       "    }\n",
       "</style>\n",
       "<table border=\"1\" class=\"dataframe\">\n",
       "  <thead>\n",
       "    <tr style=\"text-align: right;\">\n",
       "      <th></th>\n",
       "      <th>ID</th>\n",
       "      <th>Gender</th>\n",
       "      <th>Age</th>\n",
       "      <th>Region_Code</th>\n",
       "      <th>Occupation</th>\n",
       "      <th>Channel_Code</th>\n",
       "      <th>Vintage</th>\n",
       "      <th>Credit_Product</th>\n",
       "      <th>Avg_Account_Balance</th>\n",
       "      <th>Is_Active</th>\n",
       "      <th>Is_Lead</th>\n",
       "    </tr>\n",
       "  </thead>\n",
       "  <tbody>\n",
       "    <tr>\n",
       "      <th>0</th>\n",
       "      <td>NNVBBKZB</td>\n",
       "      <td>Female</td>\n",
       "      <td>73</td>\n",
       "      <td>RG268</td>\n",
       "      <td>Other</td>\n",
       "      <td>X3</td>\n",
       "      <td>43</td>\n",
       "      <td>No</td>\n",
       "      <td>1045696</td>\n",
       "      <td>No</td>\n",
       "      <td>0</td>\n",
       "    </tr>\n",
       "    <tr>\n",
       "      <th>1</th>\n",
       "      <td>IDD62UNG</td>\n",
       "      <td>Female</td>\n",
       "      <td>30</td>\n",
       "      <td>RG277</td>\n",
       "      <td>Salaried</td>\n",
       "      <td>X1</td>\n",
       "      <td>32</td>\n",
       "      <td>No</td>\n",
       "      <td>581988</td>\n",
       "      <td>No</td>\n",
       "      <td>0</td>\n",
       "    </tr>\n",
       "    <tr>\n",
       "      <th>2</th>\n",
       "      <td>HD3DSEMC</td>\n",
       "      <td>Female</td>\n",
       "      <td>56</td>\n",
       "      <td>RG268</td>\n",
       "      <td>Self_Employed</td>\n",
       "      <td>X3</td>\n",
       "      <td>26</td>\n",
       "      <td>No</td>\n",
       "      <td>1484315</td>\n",
       "      <td>Yes</td>\n",
       "      <td>0</td>\n",
       "    </tr>\n",
       "    <tr>\n",
       "      <th>3</th>\n",
       "      <td>BF3NC7KV</td>\n",
       "      <td>Male</td>\n",
       "      <td>34</td>\n",
       "      <td>RG270</td>\n",
       "      <td>Salaried</td>\n",
       "      <td>X1</td>\n",
       "      <td>19</td>\n",
       "      <td>No</td>\n",
       "      <td>470454</td>\n",
       "      <td>No</td>\n",
       "      <td>0</td>\n",
       "    </tr>\n",
       "    <tr>\n",
       "      <th>4</th>\n",
       "      <td>TEASRWXV</td>\n",
       "      <td>Female</td>\n",
       "      <td>30</td>\n",
       "      <td>RG282</td>\n",
       "      <td>Salaried</td>\n",
       "      <td>X1</td>\n",
       "      <td>33</td>\n",
       "      <td>No</td>\n",
       "      <td>886787</td>\n",
       "      <td>No</td>\n",
       "      <td>0</td>\n",
       "    </tr>\n",
       "  </tbody>\n",
       "</table>\n",
       "</div>"
      ],
      "text/plain": [
       "         ID  Gender  Age Region_Code     Occupation Channel_Code  Vintage  \\\n",
       "0  NNVBBKZB  Female   73       RG268          Other           X3       43   \n",
       "1  IDD62UNG  Female   30       RG277       Salaried           X1       32   \n",
       "2  HD3DSEMC  Female   56       RG268  Self_Employed           X3       26   \n",
       "3  BF3NC7KV    Male   34       RG270       Salaried           X1       19   \n",
       "4  TEASRWXV  Female   30       RG282       Salaried           X1       33   \n",
       "\n",
       "  Credit_Product  Avg_Account_Balance Is_Active  Is_Lead  \n",
       "0             No              1045696        No        0  \n",
       "1             No               581988        No        0  \n",
       "2             No              1484315       Yes        0  \n",
       "3             No               470454        No        0  \n",
       "4             No               886787        No        0  "
      ]
     },
     "execution_count": 3,
     "metadata": {},
     "output_type": "execute_result"
    }
   ],
   "source": [
    "train.head()"
   ]
  },
  {
   "cell_type": "code",
   "execution_count": 4,
   "metadata": {},
   "outputs": [
    {
     "data": {
      "text/html": [
       "<div>\n",
       "<style scoped>\n",
       "    .dataframe tbody tr th:only-of-type {\n",
       "        vertical-align: middle;\n",
       "    }\n",
       "\n",
       "    .dataframe tbody tr th {\n",
       "        vertical-align: top;\n",
       "    }\n",
       "\n",
       "    .dataframe thead th {\n",
       "        text-align: right;\n",
       "    }\n",
       "</style>\n",
       "<table border=\"1\" class=\"dataframe\">\n",
       "  <thead>\n",
       "    <tr style=\"text-align: right;\">\n",
       "      <th></th>\n",
       "      <th>ID</th>\n",
       "      <th>Gender</th>\n",
       "      <th>Age</th>\n",
       "      <th>Region_Code</th>\n",
       "      <th>Occupation</th>\n",
       "      <th>Channel_Code</th>\n",
       "      <th>Vintage</th>\n",
       "      <th>Credit_Product</th>\n",
       "      <th>Avg_Account_Balance</th>\n",
       "      <th>Is_Active</th>\n",
       "    </tr>\n",
       "  </thead>\n",
       "  <tbody>\n",
       "    <tr>\n",
       "      <th>105307</th>\n",
       "      <td>DBENJOYI</td>\n",
       "      <td>Male</td>\n",
       "      <td>52</td>\n",
       "      <td>RG268</td>\n",
       "      <td>Salaried</td>\n",
       "      <td>X2</td>\n",
       "      <td>86</td>\n",
       "      <td>Yes</td>\n",
       "      <td>4242558</td>\n",
       "      <td>Yes</td>\n",
       "    </tr>\n",
       "    <tr>\n",
       "      <th>105308</th>\n",
       "      <td>CWQ72DWS</td>\n",
       "      <td>Male</td>\n",
       "      <td>55</td>\n",
       "      <td>RG277</td>\n",
       "      <td>Other</td>\n",
       "      <td>X2</td>\n",
       "      <td>86</td>\n",
       "      <td>Yes</td>\n",
       "      <td>1159153</td>\n",
       "      <td>No</td>\n",
       "    </tr>\n",
       "    <tr>\n",
       "      <th>105309</th>\n",
       "      <td>HDESC8GU</td>\n",
       "      <td>Male</td>\n",
       "      <td>35</td>\n",
       "      <td>RG254</td>\n",
       "      <td>Salaried</td>\n",
       "      <td>X4</td>\n",
       "      <td>15</td>\n",
       "      <td>No</td>\n",
       "      <td>1703727</td>\n",
       "      <td>No</td>\n",
       "    </tr>\n",
       "    <tr>\n",
       "      <th>105310</th>\n",
       "      <td>2PW4SFCA</td>\n",
       "      <td>Male</td>\n",
       "      <td>53</td>\n",
       "      <td>RG254</td>\n",
       "      <td>Other</td>\n",
       "      <td>X3</td>\n",
       "      <td>93</td>\n",
       "      <td>No</td>\n",
       "      <td>737178</td>\n",
       "      <td>Yes</td>\n",
       "    </tr>\n",
       "    <tr>\n",
       "      <th>105311</th>\n",
       "      <td>F2NOYPPZ</td>\n",
       "      <td>Male</td>\n",
       "      <td>27</td>\n",
       "      <td>RG256</td>\n",
       "      <td>Salaried</td>\n",
       "      <td>X1</td>\n",
       "      <td>21</td>\n",
       "      <td>No</td>\n",
       "      <td>591565</td>\n",
       "      <td>No</td>\n",
       "    </tr>\n",
       "  </tbody>\n",
       "</table>\n",
       "</div>"
      ],
      "text/plain": [
       "              ID Gender  Age Region_Code Occupation Channel_Code  Vintage  \\\n",
       "105307  DBENJOYI   Male   52       RG268   Salaried           X2       86   \n",
       "105308  CWQ72DWS   Male   55       RG277      Other           X2       86   \n",
       "105309  HDESC8GU   Male   35       RG254   Salaried           X4       15   \n",
       "105310  2PW4SFCA   Male   53       RG254      Other           X3       93   \n",
       "105311  F2NOYPPZ   Male   27       RG256   Salaried           X1       21   \n",
       "\n",
       "       Credit_Product  Avg_Account_Balance Is_Active  \n",
       "105307            Yes              4242558       Yes  \n",
       "105308            Yes              1159153        No  \n",
       "105309             No              1703727        No  \n",
       "105310             No               737178       Yes  \n",
       "105311             No               591565        No  "
      ]
     },
     "execution_count": 4,
     "metadata": {},
     "output_type": "execute_result"
    }
   ],
   "source": [
    "test.tail()"
   ]
  },
  {
   "cell_type": "code",
   "execution_count": 5,
   "metadata": {},
   "outputs": [
    {
     "name": "stdout",
     "output_type": "stream",
     "text": [
      "0    187437\n",
      "1     58288\n",
      "Name: Is_Lead, dtype: int64\n"
     ]
    },
    {
     "data": {
      "image/png": "[encoded data removed]",
      "text/plain": [
       "<Figure size 432x288 with 1 Axes>"
      ]
     },
     "metadata": {
      "needs_background": "light"
     },
     "output_type": "display_data"
    }
   ],
   "source": [
    "print(train.Is_Lead.value_counts())\n",
    "train.Is_Lead.value_counts().plot(kind='bar');"
   ]
  },
  {
   "cell_type": "markdown",
   "metadata": {},
   "source": [
    "# From the bar chart we are seeing only 23.72 % of total population are interested and rest are not interested for the Credit Card.\n",
    "\n"
   ]
  },
  {
   "cell_type": "markdown",
   "metadata": {},
   "source": [
    "# Data Cleaning"
   ]
  },
  {
   "cell_type": "code",
   "execution_count": 6,
   "metadata": {},
   "outputs": [
    {
     "name": "stdout",
     "output_type": "stream",
     "text": [
      "ID                         0\n",
      "Gender                     0\n",
      "Age                        0\n",
      "Region_Code                0\n",
      "Occupation                 0\n",
      "Channel_Code               0\n",
      "Vintage                    0\n",
      "Credit_Product         29325\n",
      "Avg_Account_Balance        0\n",
      "Is_Active                  0\n",
      "Is_Lead                    0\n",
      "dtype: int64\n",
      "ID                         0\n",
      "Gender                     0\n",
      "Age                        0\n",
      "Region_Code                0\n",
      "Occupation                 0\n",
      "Channel_Code               0\n",
      "Vintage                    0\n",
      "Credit_Product         12522\n",
      "Avg_Account_Balance        0\n",
      "Is_Active                  0\n",
      "dtype: int64\n"
     ]
    }
   ],
   "source": [
    "train_test_data = [train,test]\n",
    "#missing values\n",
    "for dataset in train_test_data:\n",
    "    print(dataset.isnull().sum())"
   ]
  },
  {
   "cell_type": "markdown",
   "metadata": {},
   "source": [
    "# \"Credit_Product\" missing value treatment"
   ]
  },
  {
   "cell_type": "code",
   "execution_count": 7,
   "metadata": {},
   "outputs": [],
   "source": [
    "for dataset in train_test_data:\n",
    "    dataset['Credit_Product'].fillna(dataset['Credit_Product'].mode()[0],inplace=True)"
   ]
  },
  {
   "cell_type": "markdown",
   "metadata": {},
   "source": [
    "# Avg_Account_Balance"
   ]
  },
  {
   "cell_type": "code",
   "execution_count": 8,
   "metadata": {},
   "outputs": [
    {
     "name": "stdout",
     "output_type": "stream",
     "text": [
      "train max value of avg_account_balance :10352009\n",
      "train min value of avg_account_balance :20790\n",
      "\n",
      "\n",
      "test max value of avg_account_balance :9908858\n",
      "test min value of avg_account_balance :22597\n"
     ]
    }
   ],
   "source": [
    "#Let's find out the min and max value\n",
    "print(f\"train max value of avg_account_balance :{train['Avg_Account_Balance'].max()}\")\n",
    "print(f\"train min value of avg_account_balance :{train['Avg_Account_Balance'].min()}\")\n",
    "print(\"\\n\")\n",
    "print(f\"test max value of avg_account_balance :{test['Avg_Account_Balance'].max()}\")\n",
    "print(f\"test min value of avg_account_balance :{test['Avg_Account_Balance'].min()}\")"
   ]
  },
  {
   "cell_type": "code",
   "execution_count": 9,
   "metadata": {},
   "outputs": [],
   "source": [
    "#Avg_Account_Balance <= 1000000  == lower income grp\n",
    "#Avg_Account_Balance > 1000000  and <= 2000000 == higher income grp\n",
    "#Avg_Account_Balance > 1000000  and <= 2000000 == more higher income grp\n",
    "#Avg_Account_Balance > 3000000  == rich income grp\n",
    "train.loc[train['Avg_Account_Balance'] <= 800000,'Avg_Account_Balance']                                               = 0\n",
    "train.loc[(train['Avg_Account_Balance'] > 800000) & (train['Avg_Account_Balance'] <= 1500000),'Avg_Account_Balance']  = 1\n",
    "train.loc[(train['Avg_Account_Balance'] > 1500000) & (train['Avg_Account_Balance'] <= 2500000),'Avg_Account_Balance']  = 2\n",
    "train.loc[train['Avg_Account_Balance'] > 2500000,'Avg_Account_Balance']                                                = 3"
   ]
  },
  {
   "cell_type": "code",
   "execution_count": 10,
   "metadata": {},
   "outputs": [],
   "source": [
    "test.loc[test['Avg_Account_Balance'] <= 800000,'Avg_Account_Balance']                                               = 0\n",
    "test.loc[(test['Avg_Account_Balance'] > 800000) & (test['Avg_Account_Balance'] <= 1500000),'Avg_Account_Balance']   = 1\n",
    "test.loc[(test['Avg_Account_Balance'] > 1500000) & (test['Avg_Account_Balance'] <= 2500000),'Avg_Account_Balance']   = 2\n",
    "test.loc[test['Avg_Account_Balance'] > 2500000,'Avg_Account_Balance']                                                = 3"
   ]
  },
  {
   "cell_type": "code",
   "execution_count": 11,
   "metadata": {},
   "outputs": [
    {
     "data": {
      "text/plain": [
       "0    104622\n",
       "1     90154\n",
       "2     36207\n",
       "3     14742\n",
       "Name: Avg_Account_Balance, dtype: int64"
      ]
     },
     "execution_count": 11,
     "metadata": {},
     "output_type": "execute_result"
    }
   ],
   "source": [
    "train['Avg_Account_Balance'].value_counts()"
   ]
  },
  {
   "cell_type": "code",
   "execution_count": 12,
   "metadata": {},
   "outputs": [
    {
     "data": {
      "text/plain": [
       "0    44855\n",
       "1    38420\n",
       "2    15665\n",
       "3     6372\n",
       "Name: Avg_Account_Balance, dtype: int64"
      ]
     },
     "execution_count": 12,
     "metadata": {},
     "output_type": "execute_result"
    }
   ],
   "source": [
    "test['Avg_Account_Balance'].value_counts()"
   ]
  },
  {
   "cell_type": "markdown",
   "metadata": {},
   "source": [
    "# Gender"
   ]
  },
  {
   "cell_type": "code",
   "execution_count": 13,
   "metadata": {},
   "outputs": [],
   "source": [
    "gender_map = {'Male':0,'Female':1}\n",
    "for dataset in train_test_data:\n",
    "    dataset.Gender = dataset.Gender.map(gender_map)"
   ]
  },
  {
   "cell_type": "markdown",
   "metadata": {},
   "source": [
    "# Age"
   ]
  },
  {
   "cell_type": "code",
   "execution_count": 14,
   "metadata": {},
   "outputs": [
    {
     "name": "stdout",
     "output_type": "stream",
     "text": [
      "train max value of Age :85\n",
      "train min value of Age :23\n",
      "\n",
      "\n",
      "test max value of Age :85\n",
      "test min value of Age :24\n"
     ]
    }
   ],
   "source": [
    "#Let's find out the min and max value of Age\n",
    "print(f\"train max value of Age :{train['Age'].max()}\")\n",
    "print(f\"train min value of Age :{train['Age'].min()}\")\n",
    "print(\"\\n\")\n",
    "print(f\"test max value of Age :{test['Age'].max()}\")\n",
    "print(f\"test min value of Age :{test['Age'].min()}\")"
   ]
  },
  {
   "cell_type": "markdown",
   "metadata": {},
   "source": [
    "# Age Binning"
   ]
  },
  {
   "cell_type": "code",
   "execution_count": 15,
   "metadata": {},
   "outputs": [],
   "source": [
    "#Age <= 30  == young\n",
    "#Age > 30  and <= 40 == mid age\n",
    "#Age > 40  and <= 60 == higher mid age\n",
    "#Age > 60  == old age grp\n",
    "train.loc[train['Age'] <= 30,'Age']                          = 0\n",
    "train.loc[(train['Age'] > 30) & (train['Age'] <= 40),'Age']  = 1\n",
    "train.loc[(train['Age'] > 40) & (train['Age'] <= 60),'Age']  = 2\n",
    "train.loc[train['Age'] > 60,'Age']                           = 3"
   ]
  },
  {
   "cell_type": "code",
   "execution_count": 16,
   "metadata": {},
   "outputs": [],
   "source": [
    "test.loc[test['Age'] <= 30,'Age']                          = 0\n",
    "test.loc[(test['Age'] > 30) & (test['Age'] <= 40),'Age']   = 1\n",
    "test.loc[(test['Age'] > 40) & (test['Age'] <= 60),'Age']   = 2\n",
    "test.loc[test['Age'] > 60,'Age']                           = 3"
   ]
  },
  {
   "cell_type": "code",
   "execution_count": 17,
   "metadata": {},
   "outputs": [
    {
     "data": {
      "text/plain": [
       "2    98258\n",
       "0    68140\n",
       "1    44729\n",
       "3    34598\n",
       "Name: Age, dtype: int64"
      ]
     },
     "execution_count": 17,
     "metadata": {},
     "output_type": "execute_result"
    }
   ],
   "source": [
    "train.Age.value_counts()"
   ]
  },
  {
   "cell_type": "code",
   "execution_count": 18,
   "metadata": {},
   "outputs": [
    {
     "data": {
      "text/plain": [
       "2    42111\n",
       "0    29236\n",
       "1    19049\n",
       "3    14916\n",
       "Name: Age, dtype: int64"
      ]
     },
     "execution_count": 18,
     "metadata": {},
     "output_type": "execute_result"
    }
   ],
   "source": [
    "test.Age.value_counts()"
   ]
  },
  {
   "cell_type": "markdown",
   "metadata": {},
   "source": [
    "# Vintage"
   ]
  },
  {
   "cell_type": "code",
   "execution_count": 19,
   "metadata": {},
   "outputs": [
    {
     "name": "stdout",
     "output_type": "stream",
     "text": [
      "train max value of Vintage :135\n",
      "train min value of Vintage :7\n",
      "\n",
      "\n",
      "test max value of Vintage :135\n",
      "test min value of Vintage :7\n"
     ]
    }
   ],
   "source": [
    "#Let's find out the min and max value of Vintage\n",
    "print(f\"train max value of Vintage :{train['Vintage'].max()}\")\n",
    "print(f\"train min value of Vintage :{train['Vintage'].min()}\")\n",
    "print(\"\\n\")\n",
    "print(f\"test max value of Vintage :{test['Vintage'].max()}\")\n",
    "print(f\"test min value of Vintage :{test['Vintage'].min()}\")"
   ]
  },
  {
   "cell_type": "markdown",
   "metadata": {},
   "source": [
    "# Vintage Binning"
   ]
  },
  {
   "cell_type": "code",
   "execution_count": 20,
   "metadata": {},
   "outputs": [],
   "source": [
    "#Vintage <= 25  == low\n",
    "#Vintage > 25  and <= 50 == medium\n",
    "#Vintage > 50  and <= 100 == high\n",
    "#Vintage > 100  == higher\n",
    "train.loc[train['Vintage'] <= 25,'Vintage']                               = 0\n",
    "train.loc[(train['Vintage'] > 25) & (train['Vintage'] <= 50),'Vintage']   = 1\n",
    "train.loc[(train['Vintage'] > 50) & (train['Vintage'] <= 100),'Vintage']  = 2\n",
    "train.loc[train['Vintage'] > 100,'Vintage']                               = 3"
   ]
  },
  {
   "cell_type": "code",
   "execution_count": 21,
   "metadata": {},
   "outputs": [],
   "source": [
    "test.loc[test['Vintage'] <= 25,'Vintage']                               = 0\n",
    "test.loc[(test['Vintage'] > 25) & (test['Vintage'] <= 50),'Vintage']    = 1\n",
    "test.loc[(test['Vintage'] > 50) & (test['Vintage'] <= 100),'Vintage']   = 2\n",
    "test.loc[test['Vintage'] > 100,'Vintage']                               = 3"
   ]
  },
  {
   "cell_type": "code",
   "execution_count": 22,
   "metadata": {},
   "outputs": [
    {
     "data": {
      "text/plain": [
       "0    86104\n",
       "2    72324\n",
       "1    67589\n",
       "3    19708\n",
       "Name: Vintage, dtype: int64"
      ]
     },
     "execution_count": 22,
     "metadata": {},
     "output_type": "execute_result"
    }
   ],
   "source": [
    "train.Vintage.value_counts()"
   ]
  },
  {
   "cell_type": "markdown",
   "metadata": {},
   "source": [
    "# Occupation"
   ]
  },
  {
   "cell_type": "code",
   "execution_count": 23,
   "metadata": {},
   "outputs": [
    {
     "name": "stdout",
     "output_type": "stream",
     "text": [
      "Self_Employed    100886\n",
      "Salaried          71999\n",
      "Other             70173\n",
      "Entrepreneur       2667\n",
      "Name: Occupation, dtype: int64\n",
      "Self_Employed    43192\n",
      "Salaried         30913\n",
      "Other            30131\n",
      "Entrepreneur      1076\n",
      "Name: Occupation, dtype: int64\n"
     ]
    }
   ],
   "source": [
    "for dataset in train_test_data:\n",
    "    print(dataset['Occupation'].value_counts())"
   ]
  },
  {
   "cell_type": "markdown",
   "metadata": {},
   "source": [
    "# One Hot encoding Occupation"
   ]
  },
  {
   "cell_type": "code",
   "execution_count": 24,
   "metadata": {},
   "outputs": [],
   "source": [
    "Occupation_dummies_train = pd.get_dummies(train.Occupation, prefix='Occupation',drop_first=True)\n",
    "train = pd.concat([train,Occupation_dummies_train],axis=1)\n",
    "train.drop(['Occupation'],axis=1,inplace=True)\n",
    "Occupation_dummies_test = pd.get_dummies(test.Occupation, prefix='Occupation',drop_first=True)\n",
    "test = pd.concat([test,Occupation_dummies_test],axis=1)\n",
    "test.drop(['Occupation'],axis=1,inplace=True)"
   ]
  },
  {
   "cell_type": "code",
   "execution_count": 25,
   "metadata": {},
   "outputs": [],
   "source": [
    "#Occupation Map\n",
    "# occupation_map = {'Self_Employed':0,'Salaried':1,'Entrepreneur':2,'Other':3}\n",
    "# for dataset in train_test_data:\n",
    "#     dataset.Occupation = dataset.Occupation.map(occupation_map)"
   ]
  },
  {
   "cell_type": "markdown",
   "metadata": {},
   "source": [
    "# Channel_Code"
   ]
  },
  {
   "cell_type": "code",
   "execution_count": 26,
   "metadata": {},
   "outputs": [
    {
     "name": "stdout",
     "output_type": "stream",
     "text": [
      "X1    103718\n",
      "X3     68712\n",
      "X2     67726\n",
      "X4      5569\n",
      "Name: Channel_Code, dtype: int64\n",
      "X1    44484\n",
      "X3    29269\n",
      "X2    29176\n",
      "X4     2383\n",
      "Name: Channel_Code, dtype: int64\n"
     ]
    }
   ],
   "source": [
    "for dataset in train_test_data:\n",
    "    print(dataset['Channel_Code'].value_counts())"
   ]
  },
  {
   "cell_type": "markdown",
   "metadata": {},
   "source": [
    "# One hot encoding Channel_Code"
   ]
  },
  {
   "cell_type": "code",
   "execution_count": 27,
   "metadata": {},
   "outputs": [],
   "source": [
    "channel_code_dummies_train = pd.get_dummies(train.Channel_Code, prefix='Channel_code',drop_first=True)\n",
    "train = pd.concat([train,channel_code_dummies_train],axis=1)\n",
    "train.drop(['Channel_Code'],axis=1,inplace=True)\n",
    "channel_code_dummies_test = pd.get_dummies(test.Channel_Code, prefix='Channel_code',drop_first=True)\n",
    "test = pd.concat([test,channel_code_dummies_test],axis=1)\n",
    "test.drop(['Channel_Code'],axis=1,inplace=True)"
   ]
  },
  {
   "cell_type": "code",
   "execution_count": 28,
   "metadata": {},
   "outputs": [],
   "source": [
    "#Channel_Code Map\n",
    "# Channel_Code_map = {'X1':0,'X2':1,'X3':2,'X4':3}\n",
    "# for dataset in train_test_data:\n",
    "#     dataset.Channel_Code = dataset.Channel_Code.map(Channel_Code_map)"
   ]
  },
  {
   "cell_type": "code",
   "execution_count": 29,
   "metadata": {},
   "outputs": [],
   "source": [
    "train_test_data = [train,test]"
   ]
  },
  {
   "cell_type": "markdown",
   "metadata": {},
   "source": [
    "# Credit_Product"
   ]
  },
  {
   "cell_type": "code",
   "execution_count": 30,
   "metadata": {},
   "outputs": [
    {
     "name": "stdout",
     "output_type": "stream",
     "text": [
      "No     173682\n",
      "Yes     72043\n",
      "Name: Credit_Product, dtype: int64\n",
      "No     74130\n",
      "Yes    31182\n",
      "Name: Credit_Product, dtype: int64\n"
     ]
    }
   ],
   "source": [
    "for dataset in train_test_data:\n",
    "    print(dataset['Credit_Product'].value_counts())"
   ]
  },
  {
   "cell_type": "code",
   "execution_count": 31,
   "metadata": {},
   "outputs": [],
   "source": [
    "#Credit_Product Map\n",
    "Credit_Product_map = {'No':0,'Yes':1}\n",
    "for dataset in train_test_data:\n",
    "    dataset.Credit_Product = dataset.Credit_Product.map(Credit_Product_map)"
   ]
  },
  {
   "cell_type": "markdown",
   "metadata": {},
   "source": [
    "# Is_Active"
   ]
  },
  {
   "cell_type": "code",
   "execution_count": 32,
   "metadata": {},
   "outputs": [
    {
     "name": "stdout",
     "output_type": "stream",
     "text": [
      "No     150290\n",
      "Yes     95435\n",
      "Name: Is_Active, dtype: int64\n",
      "No     63797\n",
      "Yes    41515\n",
      "Name: Is_Active, dtype: int64\n"
     ]
    }
   ],
   "source": [
    "for dataset in train_test_data:\n",
    "    print(dataset['Is_Active'].value_counts())"
   ]
  },
  {
   "cell_type": "code",
   "execution_count": 33,
   "metadata": {},
   "outputs": [],
   "source": [
    "#Is_Active Map\n",
    "Is_Active_map = {'No':0,'Yes':1}\n",
    "for dataset in train_test_data:\n",
    "    dataset.Is_Active = dataset.Is_Active.map(Is_Active_map)"
   ]
  },
  {
   "cell_type": "code",
   "execution_count": 34,
   "metadata": {},
   "outputs": [
    {
     "data": {
      "image/png": "[encoded data removed]",
      "text/plain": [
       "<Figure size 2160x1440 with 2 Axes>"
      ]
     },
     "metadata": {},
     "output_type": "display_data"
    }
   ],
   "source": [
    "#print('Training Features shape: ', data.shape)\n",
    "sns.set(style=\"white\")\n",
    "\n",
    "# Set up the matplotlib figure\n",
    "f, ax = plt.subplots(figsize=(30, 20))\n",
    "\n",
    "# Generate a custom diverging colormap\n",
    "cmap = sns.diverging_palette(220, 10, as_cmap=True)\n",
    "\n",
    "sns.heatmap(train.corr(), cmap=cmap, vmax=.3, center=0,annot=True,\n",
    "            square=True, linewidths=.5, cbar_kws={\"shrink\": .5});"
   ]
  },
  {
   "cell_type": "markdown",
   "metadata": {},
   "source": [
    "# As we see \"Vintage\" , \"Channel_code\" are more related with \"Age\" , we can drop one of them, so let's drop channel_code"
   ]
  },
  {
   "cell_type": "markdown",
   "metadata": {},
   "source": [
    "# Region_Code doesn't influence model output so can be deleted"
   ]
  },
  {
   "cell_type": "code",
   "execution_count": 35,
   "metadata": {},
   "outputs": [],
   "source": [
    "# for dataset in train_test_data:\n",
    "#     print(dataset['Region_Code'].value_counts())"
   ]
  },
  {
   "cell_type": "code",
   "execution_count": 36,
   "metadata": {},
   "outputs": [
    {
     "data": {
      "text/html": [
       "<div>\n",
       "<style scoped>\n",
       "    .dataframe tbody tr th:only-of-type {\n",
       "        vertical-align: middle;\n",
       "    }\n",
       "\n",
       "    .dataframe tbody tr th {\n",
       "        vertical-align: top;\n",
       "    }\n",
       "\n",
       "    .dataframe thead th {\n",
       "        text-align: right;\n",
       "    }\n",
       "</style>\n",
       "<table border=\"1\" class=\"dataframe\">\n",
       "  <thead>\n",
       "    <tr style=\"text-align: right;\">\n",
       "      <th></th>\n",
       "      <th>ID</th>\n",
       "      <th>Gender</th>\n",
       "      <th>Age</th>\n",
       "      <th>Region_Code</th>\n",
       "      <th>Vintage</th>\n",
       "      <th>Credit_Product</th>\n",
       "      <th>Avg_Account_Balance</th>\n",
       "      <th>Is_Active</th>\n",
       "      <th>Is_Lead</th>\n",
       "      <th>Occupation_Other</th>\n",
       "      <th>Occupation_Salaried</th>\n",
       "      <th>Occupation_Self_Employed</th>\n",
       "      <th>Channel_code_X2</th>\n",
       "      <th>Channel_code_X3</th>\n",
       "      <th>Channel_code_X4</th>\n",
       "    </tr>\n",
       "  </thead>\n",
       "  <tbody>\n",
       "    <tr>\n",
       "      <th>0</th>\n",
       "      <td>NNVBBKZB</td>\n",
       "      <td>1</td>\n",
       "      <td>3</td>\n",
       "      <td>RG268</td>\n",
       "      <td>1</td>\n",
       "      <td>0</td>\n",
       "      <td>1</td>\n",
       "      <td>0</td>\n",
       "      <td>0</td>\n",
       "      <td>1</td>\n",
       "      <td>0</td>\n",
       "      <td>0</td>\n",
       "      <td>0</td>\n",
       "      <td>1</td>\n",
       "      <td>0</td>\n",
       "    </tr>\n",
       "    <tr>\n",
       "      <th>1</th>\n",
       "      <td>IDD62UNG</td>\n",
       "      <td>1</td>\n",
       "      <td>0</td>\n",
       "      <td>RG277</td>\n",
       "      <td>1</td>\n",
       "      <td>0</td>\n",
       "      <td>0</td>\n",
       "      <td>0</td>\n",
       "      <td>0</td>\n",
       "      <td>0</td>\n",
       "      <td>1</td>\n",
       "      <td>0</td>\n",
       "      <td>0</td>\n",
       "      <td>0</td>\n",
       "      <td>0</td>\n",
       "    </tr>\n",
       "    <tr>\n",
       "      <th>2</th>\n",
       "      <td>HD3DSEMC</td>\n",
       "      <td>1</td>\n",
       "      <td>2</td>\n",
       "      <td>RG268</td>\n",
       "      <td>1</td>\n",
       "      <td>0</td>\n",
       "      <td>1</td>\n",
       "      <td>1</td>\n",
       "      <td>0</td>\n",
       "      <td>0</td>\n",
       "      <td>0</td>\n",
       "      <td>1</td>\n",
       "      <td>0</td>\n",
       "      <td>1</td>\n",
       "      <td>0</td>\n",
       "    </tr>\n",
       "    <tr>\n",
       "      <th>3</th>\n",
       "      <td>BF3NC7KV</td>\n",
       "      <td>0</td>\n",
       "      <td>1</td>\n",
       "      <td>RG270</td>\n",
       "      <td>0</td>\n",
       "      <td>0</td>\n",
       "      <td>0</td>\n",
       "      <td>0</td>\n",
       "      <td>0</td>\n",
       "      <td>0</td>\n",
       "      <td>1</td>\n",
       "      <td>0</td>\n",
       "      <td>0</td>\n",
       "      <td>0</td>\n",
       "      <td>0</td>\n",
       "    </tr>\n",
       "    <tr>\n",
       "      <th>4</th>\n",
       "      <td>TEASRWXV</td>\n",
       "      <td>1</td>\n",
       "      <td>0</td>\n",
       "      <td>RG282</td>\n",
       "      <td>1</td>\n",
       "      <td>0</td>\n",
       "      <td>1</td>\n",
       "      <td>0</td>\n",
       "      <td>0</td>\n",
       "      <td>0</td>\n",
       "      <td>1</td>\n",
       "      <td>0</td>\n",
       "      <td>0</td>\n",
       "      <td>0</td>\n",
       "      <td>0</td>\n",
       "    </tr>\n",
       "  </tbody>\n",
       "</table>\n",
       "</div>"
      ],
      "text/plain": [
       "         ID  Gender  Age Region_Code  Vintage  Credit_Product  \\\n",
       "0  NNVBBKZB       1    3       RG268        1               0   \n",
       "1  IDD62UNG       1    0       RG277        1               0   \n",
       "2  HD3DSEMC       1    2       RG268        1               0   \n",
       "3  BF3NC7KV       0    1       RG270        0               0   \n",
       "4  TEASRWXV       1    0       RG282        1               0   \n",
       "\n",
       "   Avg_Account_Balance  Is_Active  Is_Lead  Occupation_Other  \\\n",
       "0                    1          0        0                 1   \n",
       "1                    0          0        0                 0   \n",
       "2                    1          1        0                 0   \n",
       "3                    0          0        0                 0   \n",
       "4                    1          0        0                 0   \n",
       "\n",
       "   Occupation_Salaried  Occupation_Self_Employed  Channel_code_X2  \\\n",
       "0                    0                         0                0   \n",
       "1                    1                         0                0   \n",
       "2                    0                         1                0   \n",
       "3                    1                         0                0   \n",
       "4                    1                         0                0   \n",
       "\n",
       "   Channel_code_X3  Channel_code_X4  \n",
       "0                1                0  \n",
       "1                0                0  \n",
       "2                1                0  \n",
       "3                0                0  \n",
       "4                0                0  "
      ]
     },
     "execution_count": 36,
     "metadata": {},
     "output_type": "execute_result"
    }
   ],
   "source": [
    "train.head()"
   ]
  },
  {
   "cell_type": "code",
   "execution_count": 37,
   "metadata": {},
   "outputs": [],
   "source": [
    "for dataset in train_test_data:\n",
    "    dataset.drop(['Region_Code','Vintage'],axis=1,inplace=True)"
   ]
  },
  {
   "cell_type": "code",
   "execution_count": 38,
   "metadata": {},
   "outputs": [],
   "source": [
    "train_data = train.drop(['ID','Is_Lead'],axis=1)"
   ]
  },
  {
   "cell_type": "code",
   "execution_count": 39,
   "metadata": {},
   "outputs": [],
   "source": [
    "X = train_data.values"
   ]
  },
  {
   "cell_type": "code",
   "execution_count": 40,
   "metadata": {},
   "outputs": [],
   "source": [
    "target = train['Is_Lead']"
   ]
  },
  {
   "cell_type": "code",
   "execution_count": 41,
   "metadata": {},
   "outputs": [],
   "source": [
    "y = target.values"
   ]
  },
  {
   "cell_type": "code",
   "execution_count": 42,
   "metadata": {},
   "outputs": [],
   "source": [
    "from sklearn.model_selection import train_test_split\n",
    "X_train,X_test,y_train,y_test = train_test_split(X,y,test_size=0.33, random_state=42)"
   ]
  },
  {
   "cell_type": "code",
   "execution_count": 43,
   "metadata": {},
   "outputs": [
    {
     "name": "stdout",
     "output_type": "stream",
     "text": [
      "Shape of X_train : (164635, 11)\n",
      "Shape of X_test : (81090, 11)\n",
      "Shape of y_train : (164635,)\n",
      "Shape of y_test : (81090,)\n"
     ]
    }
   ],
   "source": [
    "print(\"Shape of X_train :\", X_train.shape)\n",
    "print(\"Shape of X_test :\", X_test.shape)\n",
    "print(\"Shape of y_train :\", y_train.shape)\n",
    "print(\"Shape of y_test :\", y_test.shape)"
   ]
  },
  {
   "cell_type": "code",
   "execution_count": 44,
   "metadata": {},
   "outputs": [
    {
     "data": {
      "text/plain": [
       "array([[1, 0, 0, ..., 0, 0, 0],\n",
       "       [0, 2, 1, ..., 1, 0, 0],\n",
       "       [1, 2, 0, ..., 1, 0, 0],\n",
       "       ...,\n",
       "       [0, 2, 1, ..., 1, 0, 0],\n",
       "       [0, 0, 0, ..., 0, 0, 0],\n",
       "       [0, 3, 1, ..., 1, 0, 0]], dtype=int64)"
      ]
     },
     "execution_count": 44,
     "metadata": {},
     "output_type": "execute_result"
    }
   ],
   "source": [
    "X_train"
   ]
  },
  {
   "cell_type": "code",
   "execution_count": 45,
   "metadata": {},
   "outputs": [
    {
     "data": {
      "image/png": "[encoded data removed]",
      "text/plain": [
       "<Figure size 2160x1440 with 2 Axes>"
      ]
     },
     "metadata": {},
     "output_type": "display_data"
    }
   ],
   "source": [
    "#print('Training Features shape: ', data.shape)\n",
    "sns.set(style=\"white\")\n",
    "\n",
    "# Set up the matplotlib figure\n",
    "f, ax = plt.subplots(figsize=(30, 20))\n",
    "\n",
    "# Generate a custom diverging colormap\n",
    "cmap = sns.diverging_palette(220, 10, as_cmap=True)\n",
    "\n",
    "sns.heatmap(train_data.corr(), cmap=cmap, vmax=.3, center=0,annot=True,\n",
    "            square=True, linewidths=.5, cbar_kws={\"shrink\": .5});"
   ]
  },
  {
   "cell_type": "code",
   "execution_count": 46,
   "metadata": {},
   "outputs": [],
   "source": [
    "# from sklearn.preprocessing import MinMaxScaler\n",
    "# scaler = MinMaxScaler()\n",
    "# #sc = StandardScaler()\n",
    "# #X_train = sc.fit_transform(X_train)\n",
    "# #X_test = sc.fit_transform(X_test)\n",
    "# X_train = scaler.fit_transform(X_train)\n",
    "# X_test  = scaler.fit_transform(X_test)"
   ]
  },
  {
   "cell_type": "markdown",
   "metadata": {},
   "source": [
    "# Modelling with Ensemble Techniques"
   ]
  },
  {
   "cell_type": "code",
   "execution_count": 47,
   "metadata": {},
   "outputs": [],
   "source": [
    "from sklearn.tree import DecisionTreeClassifier\n",
    "from sklearn.metrics import accuracy_score,confusion_matrix\n",
    "from sklearn.model_selection import cross_val_score,GridSearchCV\n",
    "from sklearn.multiclass import OneVsRestClassifier\n",
    "from sklearn.naive_bayes import GaussianNB\n",
    "from sklearn.svm import SVC\n",
    "from sklearn.linear_model import LogisticRegression\n",
    "from sklearn.ensemble import RandomForestClassifier\n",
    "from sklearn.neighbors import KNeighborsClassifier\n",
    "from xgboost import XGBClassifier\n",
    "#import sklearn.neighbors._base\n",
    "#import sys\n",
    "#sys.modules['sklearn.neighbors.base'] = sklearn.neighbors._base\n",
    "from imblearn.ensemble import BalancedRandomForestClassifier\n",
    "from sklearn.metrics import classification_report\n",
    "from sklearn.metrics import confusion_matrix"
   ]
  },
  {
   "cell_type": "code",
   "execution_count": 48,
   "metadata": {},
   "outputs": [
    {
     "name": "stdout",
     "output_type": "stream",
     "text": [
      "0.7859415464298927\n"
     ]
    }
   ],
   "source": [
    "#Decission Tree\n",
    "dt = DecisionTreeClassifier()\n",
    "clf_dt = dt.fit(X_train,y_train)\n",
    "y_pred_dt=clf_dt.predict(X_test)\n",
    "accuracy_dt = accuracy_score(y_test,y_pred_dt)\n",
    "print(accuracy_score(y_test,y_pred_dt))"
   ]
  },
  {
   "cell_type": "code",
   "execution_count": 49,
   "metadata": {},
   "outputs": [
    {
     "name": "stdout",
     "output_type": "stream",
     "text": [
      "Training Accuracy:  0.7895647948492119\n",
      "Testing Accuarcy:  0.7858922185226291\n"
     ]
    }
   ],
   "source": [
    "# Using a Random Forest classifier \n",
    "model_rf = RandomForestClassifier(n_estimators=100,random_state=0)\n",
    "model_rf.fit(X_train,y_train)\n",
    "y_pred_rf = model_rf.predict(X_test)\n",
    "accuracy_rf = accuracy_score(y_test,y_pred_rf)\n",
    "print(\"Training Accuracy: \", model_rf.score(X_train, y_train))\n",
    "print('Testing Accuarcy: ', model_rf.score(X_test, y_test))"
   ]
  },
  {
   "cell_type": "code",
   "execution_count": 50,
   "metadata": {},
   "outputs": [
    {
     "name": "stdout",
     "output_type": "stream",
     "text": [
      "              precision    recall  f1-score   support\n",
      "\n",
      "           0       0.79      0.98      0.88     61867\n",
      "           1       0.73      0.15      0.25     19223\n",
      "\n",
      "    accuracy                           0.79     81090\n",
      "   macro avg       0.76      0.57      0.56     81090\n",
      "weighted avg       0.78      0.79      0.73     81090\n",
      "\n"
     ]
    }
   ],
   "source": [
    "cl_report = classification_report(y_test,y_pred_rf)\n",
    "print(cl_report)"
   ]
  },
  {
   "cell_type": "code",
   "execution_count": 51,
   "metadata": {},
   "outputs": [
    {
     "name": "stdout",
     "output_type": "stream",
     "text": [
      "Training Accuracy:  0.6507911440459198\n",
      "Testing Accuarcy:  0.6445431002589715\n"
     ]
    }
   ],
   "source": [
    "#A balanced random forest randomly under-samples each boostrap sample to balance it.\n",
    "model = BalancedRandomForestClassifier(n_estimators = 100, random_state = 0)\n",
    "model.fit(X_train, y_train)\n",
    "y_pred = model.predict(X_test)\n",
    "accuracy_balanced_clf = accuracy_score(y_test,y_pred)\n",
    "print(\"Training Accuracy: \", model.score(X_train, y_train))\n",
    "print('Testing Accuarcy: ', model.score(X_test, y_test))"
   ]
  },
  {
   "cell_type": "code",
   "execution_count": 52,
   "metadata": {},
   "outputs": [
    {
     "name": "stdout",
     "output_type": "stream",
     "text": [
      "              precision    recall  f1-score   support\n",
      "\n",
      "           0       0.89      0.61      0.72     61867\n",
      "           1       0.38      0.76      0.50     19223\n",
      "\n",
      "    accuracy                           0.64     81090\n",
      "   macro avg       0.63      0.69      0.61     81090\n",
      "weighted avg       0.77      0.64      0.67     81090\n",
      "\n"
     ]
    }
   ],
   "source": [
    "cl_report = classification_report(y_test,y_pred)\n",
    "print(cl_report)"
   ]
  },
  {
   "cell_type": "code",
   "execution_count": 53,
   "metadata": {},
   "outputs": [
    {
     "data": {
      "image/png": "[encoded data removed]",
      "text/plain": [
       "<Figure size 360x360 with 2 Axes>"
      ]
     },
     "metadata": {},
     "output_type": "display_data"
    }
   ],
   "source": [
    "#Confusion Matrix\n",
    "plt.rcParams['figure.figsize'] = (5, 5)\n",
    "cm = confusion_matrix(y_test, y_pred)\n",
    "sns.heatmap(cm, annot = True, cmap = 'copper')\n",
    "plt.show()"
   ]
  },
  {
   "cell_type": "code",
   "execution_count": 54,
   "metadata": {},
   "outputs": [
    {
     "name": "stdout",
     "output_type": "stream",
     "text": [
      "Training Accuracy:  0.7826464603516871\n",
      "Testing Accuarcy:  0.7824392650141818\n"
     ]
    }
   ],
   "source": [
    "#Logistic Regression\n",
    "model_logit = LogisticRegression()\n",
    "model_logit.fit(X_train, y_train)\n",
    "y_pred_logit = model_logit.predict(X_test)\n",
    "accuracy_logit = accuracy_score(y_test,y_pred_logit)\n",
    "print(\"Training Accuracy: \", model_logit.score(X_train, y_train))\n",
    "print('Testing Accuarcy: ', model_logit.score(X_test, y_test))"
   ]
  },
  {
   "cell_type": "code",
   "execution_count": 55,
   "metadata": {},
   "outputs": [
    {
     "data": {
      "image/png": "[encoded data removed]",
      "text/plain": [
       "<Figure size 360x360 with 2 Axes>"
      ]
     },
     "metadata": {},
     "output_type": "display_data"
    }
   ],
   "source": [
    "#Confusion Matrix Logistic Regression\n",
    "plt.rcParams['figure.figsize'] = (5, 5)\n",
    "cm_logit = confusion_matrix(y_test, y_pred_logit)\n",
    "sns.heatmap(cm_logit, annot = True, cmap = 'Greens')\n",
    "plt.show()"
   ]
  },
  {
   "cell_type": "code",
   "execution_count": 56,
   "metadata": {},
   "outputs": [
    {
     "name": "stdout",
     "output_type": "stream",
     "text": [
      "0.7699593044765076\n"
     ]
    }
   ],
   "source": [
    "#KNN\n",
    "knn = KNeighborsClassifier(n_neighbors=6)\n",
    "clf_knn = knn.fit(X_train,y_train)\n",
    "y_pred_knn = clf_knn.predict(X_test)\n",
    "accuracy_knn = accuracy_score(y_test,y_pred_knn)\n",
    "print(accuracy_score(y_test,y_pred_knn))"
   ]
  },
  {
   "cell_type": "code",
   "execution_count": 57,
   "metadata": {},
   "outputs": [
    {
     "name": "stdout",
     "output_type": "stream",
     "text": [
      "0.6491059316808484\n"
     ]
    }
   ],
   "source": [
    "#Naive Bayes\n",
    "from sklearn.naive_bayes import GaussianNB\n",
    "clf_nb= GaussianNB()\n",
    "# sv = SVC()\n",
    "clf_nb = clf_nb.fit(X_train,y_train)\n",
    "y_pred_nb = clf_nb.predict(X_test)\n",
    "print(accuracy_score(y_test,y_pred_nb))"
   ]
  },
  {
   "cell_type": "code",
   "execution_count": 58,
   "metadata": {},
   "outputs": [],
   "source": [
    "#Lets use k-fold cross validation\n",
    "from sklearn.model_selection import KFold,cross_val_score\n",
    "k_fold = KFold(n_splits=10,shuffle=True,random_state=0)"
   ]
  },
  {
   "cell_type": "code",
   "execution_count": 59,
   "metadata": {},
   "outputs": [
    {
     "name": "stdout",
     "output_type": "stream",
     "text": [
      "[0.78595724 0.78407434 0.78364917 0.78607872 0.78802235 0.78497236\n",
      " 0.78728057 0.78521533 0.78867764 0.78442568]\n",
      "0.79\n"
     ]
    }
   ],
   "source": [
    "#Decission Tree\n",
    "score= cross_val_score(dt,X_train,y_train,cv=k_fold,n_jobs=1,scoring='accuracy')\n",
    "print(score)\n",
    "print(round(np.mean(score),2))"
   ]
  },
  {
   "cell_type": "code",
   "execution_count": 60,
   "metadata": {},
   "outputs": [
    {
     "name": "stdout",
     "output_type": "stream",
     "text": [
      "0.79\n"
     ]
    }
   ],
   "source": [
    "#Random Forest\n",
    "score= cross_val_score(model_rf,X_train,y_train,cv=k_fold,n_jobs=1,scoring='accuracy')\n",
    "print(round(np.mean(score),2))"
   ]
  },
  {
   "cell_type": "code",
   "execution_count": 61,
   "metadata": {},
   "outputs": [],
   "source": [
    "#Support Vector\n",
    "# score= cross_val_score(sv,X_train,y_train,cv=k_fold,n_jobs=1,scoring='accuracy')\n",
    "# print(round(np.mean(score),2))"
   ]
  },
  {
   "cell_type": "markdown",
   "metadata": {},
   "source": [
    "**Applying Sampling Technique**"
   ]
  },
  {
   "cell_type": "markdown",
   "metadata": {},
   "source": [
    "**Up sampling with SMOTE**"
   ]
  },
  {
   "cell_type": "code",
   "execution_count": 62,
   "metadata": {},
   "outputs": [
    {
     "name": "stdout",
     "output_type": "stream",
     "text": [
      "(374874, 11)\n",
      "(374874,)\n"
     ]
    }
   ],
   "source": [
    "from imblearn.over_sampling import SMOTE\n",
    "x_resample, y_resample  = SMOTE().fit_resample(X, y.ravel())\n",
    "\n",
    "print(x_resample.shape)\n",
    "print(y_resample.shape)"
   ]
  },
  {
   "cell_type": "code",
   "execution_count": 63,
   "metadata": {},
   "outputs": [
    {
     "name": "stdout",
     "output_type": "stream",
     "text": [
      "(299899, 11)\n",
      "(299899,)\n",
      "(74975, 11)\n",
      "(74975,)\n"
     ]
    }
   ],
   "source": [
    "from sklearn.model_selection import train_test_split\n",
    "\n",
    "x_train2, x_test2, y_train2, y_test2 = train_test_split(x_resample, y_resample, test_size = 0.2, random_state = 0)\n",
    "\n",
    "print(x_train2.shape)\n",
    "print(y_train2.shape)\n",
    "print(x_test2.shape)\n",
    "print(y_test2.shape)"
   ]
  },
  {
   "cell_type": "code",
   "execution_count": 64,
   "metadata": {},
   "outputs": [],
   "source": [
    "# standardization\n",
    "from sklearn.preprocessing import StandardScaler\n",
    "\n",
    "sc = StandardScaler()\n",
    "x_train2 = sc.fit_transform(x_train2)\n",
    "x_test2 = sc.transform(x_test2)"
   ]
  },
  {
   "cell_type": "code",
   "execution_count": 65,
   "metadata": {},
   "outputs": [
    {
     "name": "stdout",
     "output_type": "stream",
     "text": [
      "Training Accuracy:  0.693726888052311\n",
      "Testing Accuarcy:  0.6887895965321774\n"
     ]
    },
    {
     "data": {
      "image/png": "[encoded data removed]",
      "text/plain": [
       "<Figure size 360x360 with 2 Axes>"
      ]
     },
     "metadata": {},
     "output_type": "display_data"
    },
    {
     "name": "stdout",
     "output_type": "stream",
     "text": [
      "              precision    recall  f1-score   support\n",
      "\n",
      "           0       0.74      0.60      0.66     37810\n",
      "           1       0.66      0.78      0.71     37165\n",
      "\n",
      "    accuracy                           0.69     74975\n",
      "   macro avg       0.70      0.69      0.69     74975\n",
      "weighted avg       0.70      0.69      0.69     74975\n",
      "\n"
     ]
    }
   ],
   "source": [
    "# Random Forest Classifier\n",
    "from sklearn.ensemble import RandomForestClassifier\n",
    "\n",
    "model_o = RandomForestClassifier()\n",
    "model_o.fit(x_train2, y_train2)\n",
    "\n",
    "y_pred = model_o.predict(x_test2)\n",
    "\n",
    "print(\"Training Accuracy: \", model_o.score(x_train2, y_train2))\n",
    "print('Testing Accuarcy: ', model_o.score(x_test2, y_test2))\n",
    "\n",
    "# confusion matrix\n",
    "cm = confusion_matrix(y_test2, y_pred)\n",
    "plt.rcParams['figure.figsize'] = (5, 5)\n",
    "sns.heatmap(cm, annot = True, cmap = 'winter')\n",
    "plt.show()\n",
    "# classification report\n",
    "cr = classification_report(y_test2, y_pred)\n",
    "print(cr)"
   ]
  },
  {
   "cell_type": "markdown",
   "metadata": {},
   "source": [
    "# XGBoost Classifier"
   ]
  },
  {
   "cell_type": "code",
   "execution_count": 66,
   "metadata": {},
   "outputs": [],
   "source": [
    "xgb = XGBClassifier(n_estimators=100)"
   ]
  },
  {
   "cell_type": "code",
   "execution_count": 67,
   "metadata": {},
   "outputs": [
    {
     "name": "stdout",
     "output_type": "stream",
     "text": [
      "Training Accuracy:  0.7858839250463145\n",
      "Testing Accuarcy:  0.785707238870391\n",
      "0.785707238870391\n"
     ]
    }
   ],
   "source": [
    "xgb.fit(X_train,y_train)\n",
    "y_pred_xgb = xgb.predict(X_test)\n",
    "accuracy_xgb = accuracy_score(y_test,y_pred_xgb)\n",
    "print(\"Training Accuracy: \", xgb.score(X_train, y_train))\n",
    "print('Testing Accuarcy: ', xgb.score(X_test, y_test))\n",
    "print(accuracy_xgb)"
   ]
  },
  {
   "cell_type": "code",
   "execution_count": 68,
   "metadata": {},
   "outputs": [
    {
     "name": "stdout",
     "output_type": "stream",
     "text": [
      "0.79\n"
     ]
    }
   ],
   "source": [
    "#Xg Boost\n",
    "score= cross_val_score(xgb,X_train,y_train,cv=k_fold,n_jobs=1,scoring='accuracy')\n",
    "print(round(np.mean(score),2))"
   ]
  },
  {
   "cell_type": "code",
   "execution_count": 69,
   "metadata": {},
   "outputs": [],
   "source": [
    "## Hyper Parameter Optimization\n",
    "\n",
    "params={\n",
    " \"learning_rate\"    : [0.05, 0.10, 0.15, 0.20, 0.25, 0.30 ] ,\n",
    " \"max_depth\"        : [ 3, 4, 5, 6, 8, 10, 12, 15],\n",
    " \"min_child_weight\" : [ 1, 3, 5, 7 ],\n",
    " \"gamma\"            : [ 0.0, 0.1, 0.2 , 0.3, 0.4 ],\n",
    " \"colsample_bytree\" : [ 0.3, 0.4, 0.5 , 0.7 ]\n",
    "    \n",
    "}"
   ]
  },
  {
   "cell_type": "code",
   "execution_count": 70,
   "metadata": {},
   "outputs": [],
   "source": [
    "## Hyperparameter optimization using RandomizedSearchCV\n",
    "from sklearn.model_selection import RandomizedSearchCV, GridSearchCV\n",
    "import xgboost"
   ]
  },
  {
   "cell_type": "code",
   "execution_count": 71,
   "metadata": {},
   "outputs": [],
   "source": [
    "def timer(start_time=None):\n",
    "    if not start_time:\n",
    "        start_time = datetime.now()\n",
    "        return start_time\n",
    "    elif start_time:\n",
    "        thour, temp_sec = divmod((datetime.now() - start_time).total_seconds(), 3600)\n",
    "        tmin, tsec = divmod(temp_sec, 60)\n",
    "        print('\\n Time taken: %i hours %i minutes and %s seconds.' % (thour, tmin, round(tsec, 2)))"
   ]
  },
  {
   "cell_type": "code",
   "execution_count": 72,
   "metadata": {},
   "outputs": [],
   "source": [
    "classifier=xgboost.XGBClassifier()"
   ]
  },
  {
   "cell_type": "code",
   "execution_count": 73,
   "metadata": {},
   "outputs": [],
   "source": [
    "random_search=RandomizedSearchCV(classifier,param_distributions=params,n_iter=5,scoring='roc_auc',n_jobs=-1,cv=5,verbose=3)"
   ]
  },
  {
   "cell_type": "code",
   "execution_count": 74,
   "metadata": {},
   "outputs": [
    {
     "name": "stdout",
     "output_type": "stream",
     "text": [
      "Fitting 5 folds for each of 5 candidates, totalling 25 fits\n",
      "\n",
      " Time taken: 0 hours 3 minutes and 2.44 seconds.\n"
     ]
    }
   ],
   "source": [
    "from datetime import datetime\n",
    "# Here we go\n",
    "start_time = timer(None) # timing starts from this point for \"start_time\" variable\n",
    "random_search.fit(X_train,y_train)\n",
    "timer(start_time) # timing ends here for \"start_time\" variable"
   ]
  },
  {
   "cell_type": "code",
   "execution_count": 75,
   "metadata": {},
   "outputs": [
    {
     "data": {
      "text/plain": [
       "XGBClassifier(colsample_bytree=0.7, gamma=0.4, max_depth=6)"
      ]
     },
     "execution_count": 75,
     "metadata": {},
     "output_type": "execute_result"
    }
   ],
   "source": [
    "random_search.best_estimator_"
   ]
  },
  {
   "cell_type": "code",
   "execution_count": 76,
   "metadata": {},
   "outputs": [
    {
     "data": {
      "text/plain": [
       "{'min_child_weight': 1,\n",
       " 'max_depth': 6,\n",
       " 'learning_rate': 0.1,\n",
       " 'gamma': 0.4,\n",
       " 'colsample_bytree': 0.7}"
      ]
     },
     "execution_count": 76,
     "metadata": {},
     "output_type": "execute_result"
    }
   ],
   "source": [
    "random_search.best_params_"
   ]
  },
  {
   "cell_type": "code",
   "execution_count": 84,
   "metadata": {},
   "outputs": [],
   "source": [
    "classifier=xgboost.XGBClassifier(base_score=0.5, booster='gbtree', colsample_bylevel=1,\n",
    "       colsample_bytree=0.7, gamma=0.4, learning_rate=0.2,\n",
    "       max_delta_step=0, max_depth=6, min_child_weight=5, missing=None,\n",
    "       n_estimators=100, n_jobs=1, nthread=None,\n",
    "       objective='binary:logistic', random_state=0, reg_alpha=0,\n",
    "       reg_lambda=1, scale_pos_weight=1, seed=None, silent=True,\n",
    "       subsample=1)"
   ]
  },
  {
   "cell_type": "code",
   "execution_count": 85,
   "metadata": {},
   "outputs": [
    {
     "name": "stdout",
     "output_type": "stream",
     "text": [
      "Training Accuracy:  0.7887326510158836\n",
      "Testing Accuarcy:  0.787174744111481\n",
      "0.787174744111481\n"
     ]
    }
   ],
   "source": [
    "classifier.fit(X_train,y_train)\n",
    "y_pred_xgb = classifier.predict(X_test)\n",
    "accuracy_xgb = accuracy_score(y_test,y_pred_xgb)\n",
    "print(\"Training Accuracy: \", classifier.score(X_train, y_train))\n",
    "print('Testing Accuarcy: ', classifier.score(X_test, y_test))\n",
    "print(accuracy_xgb)"
   ]
  },
  {
   "cell_type": "markdown",
   "metadata": {},
   "source": [
    "# Feature scaling"
   ]
  },
  {
   "cell_type": "code",
   "execution_count": 79,
   "metadata": {},
   "outputs": [],
   "source": [
    "# from sklearn.preprocessing import MinMaxScaler\n",
    "# scaler = MinMaxScaler()\n",
    "# #sc = StandardScaler()\n",
    "# #X_train = sc.fit_transform(X_train)\n",
    "# #X_test = sc.fit_transform(X_test)\n",
    "# X_train = scaler.fit_transform(X_train)\n",
    "# X_test  = scaler.fit_transform(X_test)"
   ]
  },
  {
   "cell_type": "code",
   "execution_count": 80,
   "metadata": {},
   "outputs": [
    {
     "data": {
      "text/plain": [
       "(164635, 11)"
      ]
     },
     "execution_count": 80,
     "metadata": {},
     "output_type": "execute_result"
    }
   ],
   "source": [
    "# X_train.shape"
   ]
  },
  {
   "cell_type": "markdown",
   "metadata": {},
   "source": [
    "# ANN Model Building"
   ]
  },
  {
   "cell_type": "code",
   "execution_count": 81,
   "metadata": {},
   "outputs": [
    {
     "name": "stderr",
     "output_type": "stream",
     "text": [
      "Using TensorFlow backend.\n",
      "WARNING: Logging before flag parsing goes to stderr.\n",
      "W0530 12:53:09.622023 131356 deprecation_wrapper.py:119] From C:\\ProgramData\\Anaconda3\\lib\\site-packages\\keras\\backend\\tensorflow_backend.py:74: The name tf.get_default_graph is deprecated. Please use tf.compat.v1.get_default_graph instead.\n",
      "\n",
      "W0530 12:53:09.665996 131356 deprecation_wrapper.py:119] From C:\\ProgramData\\Anaconda3\\lib\\site-packages\\keras\\optimizers.py:790: The name tf.train.Optimizer is deprecated. Please use tf.compat.v1.train.Optimizer instead.\n",
      "\n",
      "W0530 12:53:09.704971 131356 deprecation_wrapper.py:119] From C:\\ProgramData\\Anaconda3\\lib\\site-packages\\keras\\backend\\tensorflow_backend.py:517: The name tf.placeholder is deprecated. Please use tf.compat.v1.placeholder instead.\n",
      "\n",
      "W0530 12:53:09.708969 131356 deprecation_wrapper.py:119] From C:\\ProgramData\\Anaconda3\\lib\\site-packages\\keras\\backend\\tensorflow_backend.py:4138: The name tf.random_uniform is deprecated. Please use tf.random.uniform instead.\n",
      "\n",
      "W0530 12:53:09.784921 131356 deprecation_wrapper.py:119] From C:\\ProgramData\\Anaconda3\\lib\\site-packages\\keras\\backend\\tensorflow_backend.py:3376: The name tf.log is deprecated. Please use tf.math.log instead.\n",
      "\n",
      "W0530 12:53:09.793914 131356 deprecation.py:323] From C:\\ProgramData\\Anaconda3\\lib\\site-packages\\tensorflow\\python\\ops\\nn_impl.py:180: add_dispatch_support.<locals>.wrapper (from tensorflow.python.ops.array_ops) is deprecated and will be removed in a future version.\n",
      "Instructions for updating:\n",
      "Use tf.where in 2.0, which has the same broadcast rule as np.where\n",
      "W0530 12:53:10.046759 131356 deprecation_wrapper.py:119] From C:\\ProgramData\\Anaconda3\\lib\\site-packages\\keras\\backend\\tensorflow_backend.py:986: The name tf.assign_add is deprecated. Please use tf.compat.v1.assign_add instead.\n",
      "\n"
     ]
    },
    {
     "name": "stdout",
     "output_type": "stream",
     "text": [
      "Epoch 1/50\n",
      "164635/164635 [==============================] - 3s 19us/step - loss: 0.5204 - acc: 0.7627\n",
      "Epoch 2/50\n",
      "164635/164635 [==============================] - 3s 17us/step - loss: 0.4815 - acc: 0.7692\n",
      "Epoch 3/50\n",
      "164635/164635 [==============================] - 3s 16us/step - loss: 0.4745 - acc: 0.7838\n",
      "Epoch 4/50\n",
      "164635/164635 [==============================] - 3s 17us/step - loss: 0.4678 - acc: 0.7845\n",
      "Epoch 5/50\n",
      "164635/164635 [==============================] - 3s 17us/step - loss: 0.4651 - acc: 0.7845\n",
      "Epoch 6/50\n",
      "164635/164635 [==============================] - 3s 17us/step - loss: 0.4638 - acc: 0.7847\n",
      "Epoch 7/50\n",
      "164635/164635 [==============================] - 3s 16us/step - loss: 0.4629 - acc: 0.7849\n",
      "Epoch 8/50\n",
      "164635/164635 [==============================] - 3s 17us/step - loss: 0.4621 - acc: 0.7854\n",
      "Epoch 9/50\n",
      "164635/164635 [==============================] - 3s 17us/step - loss: 0.4614 - acc: 0.7857\n",
      "Epoch 10/50\n",
      "164635/164635 [==============================] - 3s 18us/step - loss: 0.4608 - acc: 0.7856\n",
      "Epoch 11/50\n",
      "164635/164635 [==============================] - 3s 18us/step - loss: 0.4603 - acc: 0.7859\n",
      "Epoch 12/50\n",
      "164635/164635 [==============================] - 3s 16us/step - loss: 0.4598 - acc: 0.7863\n",
      "Epoch 13/50\n",
      "164635/164635 [==============================] - 3s 18us/step - loss: 0.4595 - acc: 0.7861\n",
      "Epoch 14/50\n",
      "164635/164635 [==============================] - 3s 19us/step - loss: 0.4591 - acc: 0.7864\n",
      "Epoch 15/50\n",
      "164635/164635 [==============================] - 3s 16us/step - loss: 0.4588 - acc: 0.7862\n",
      "Epoch 16/50\n",
      "164635/164635 [==============================] - 3s 17us/step - loss: 0.4587 - acc: 0.7866\n",
      "Epoch 17/50\n",
      "164635/164635 [==============================] - 3s 18us/step - loss: 0.4586 - acc: 0.7865\n",
      "Epoch 18/50\n",
      "164635/164635 [==============================] - 3s 17us/step - loss: 0.4586 - acc: 0.7867\n",
      "Epoch 19/50\n",
      "164635/164635 [==============================] - 3s 18us/step - loss: 0.4584 - acc: 0.7866\n",
      "Epoch 20/50\n",
      "164635/164635 [==============================] - 3s 19us/step - loss: 0.4583 - acc: 0.7868\n",
      "Epoch 21/50\n",
      "164635/164635 [==============================] - 3s 19us/step - loss: 0.4581 - acc: 0.7868\n",
      "Epoch 22/50\n",
      "164635/164635 [==============================] - 3s 17us/step - loss: 0.4582 - acc: 0.7867\n",
      "Epoch 23/50\n",
      "164635/164635 [==============================] - 3s 17us/step - loss: 0.4582 - acc: 0.7868\n",
      "Epoch 24/50\n",
      "164635/164635 [==============================] - 3s 17us/step - loss: 0.4581 - acc: 0.7866\n",
      "Epoch 25/50\n",
      "164635/164635 [==============================] - 3s 17us/step - loss: 0.4580 - acc: 0.7868\n",
      "Epoch 26/50\n",
      "164635/164635 [==============================] - 3s 17us/step - loss: 0.4581 - acc: 0.7867\n",
      "Epoch 27/50\n",
      "164635/164635 [==============================] - 3s 17us/step - loss: 0.4579 - acc: 0.7869\n",
      "Epoch 28/50\n",
      "164635/164635 [==============================] - 3s 17us/step - loss: 0.4578 - acc: 0.7867\n",
      "Epoch 29/50\n",
      "164635/164635 [==============================] - 3s 17us/step - loss: 0.4579 - acc: 0.7864\n",
      "Epoch 30/50\n",
      "164635/164635 [==============================] - 3s 17us/step - loss: 0.4578 - acc: 0.7868\n",
      "Epoch 31/50\n",
      "164635/164635 [==============================] - 3s 17us/step - loss: 0.4578 - acc: 0.7868\n",
      "Epoch 32/50\n",
      "164635/164635 [==============================] - 3s 17us/step - loss: 0.4578 - acc: 0.7865\n",
      "Epoch 33/50\n",
      "164635/164635 [==============================] - 3s 17us/step - loss: 0.4578 - acc: 0.7871\n",
      "Epoch 34/50\n",
      "164635/164635 [==============================] - 3s 17us/step - loss: 0.4577 - acc: 0.7868\n",
      "Epoch 35/50\n",
      "164635/164635 [==============================] - 3s 18us/step - loss: 0.4577 - acc: 0.7868\n",
      "Epoch 36/50\n",
      "164635/164635 [==============================] - 3s 17us/step - loss: 0.4576 - acc: 0.7869\n",
      "Epoch 37/50\n",
      "164635/164635 [==============================] - 3s 17us/step - loss: 0.4577 - acc: 0.7869\n",
      "Epoch 38/50\n",
      "164635/164635 [==============================] - 3s 18us/step - loss: 0.4576 - acc: 0.7868\n",
      "Epoch 39/50\n",
      "164635/164635 [==============================] - 3s 18us/step - loss: 0.4577 - acc: 0.7869\n",
      "Epoch 40/50\n",
      "164635/164635 [==============================] - 3s 18us/step - loss: 0.4575 - acc: 0.7870\n",
      "Epoch 41/50\n",
      "164635/164635 [==============================] - 3s 17us/step - loss: 0.4576 - acc: 0.7866\n",
      "Epoch 42/50\n",
      "164635/164635 [==============================] - 3s 17us/step - loss: 0.4574 - acc: 0.7867\n",
      "Epoch 43/50\n",
      "164635/164635 [==============================] - 3s 17us/step - loss: 0.4576 - acc: 0.7869\n",
      "Epoch 44/50\n",
      "164635/164635 [==============================] - 3s 17us/step - loss: 0.4575 - acc: 0.7875\n",
      "Epoch 45/50\n",
      "164635/164635 [==============================] - 3s 17us/step - loss: 0.4575 - acc: 0.7874\n",
      "Epoch 46/50\n",
      "164635/164635 [==============================] - 3s 17us/step - loss: 0.4576 - acc: 0.7873\n",
      "Epoch 47/50\n",
      "164635/164635 [==============================] - 3s 17us/step - loss: 0.4574 - acc: 0.7874\n",
      "Epoch 48/50\n",
      "164635/164635 [==============================] - 3s 17us/step - loss: 0.4574 - acc: 0.7874\n",
      "Epoch 49/50\n",
      "164635/164635 [==============================] - 3s 17us/step - loss: 0.4574 - acc: 0.7875\n",
      "Epoch 50/50\n",
      "164635/164635 [==============================] - 3s 17us/step - loss: 0.4574 - acc: 0.7874\n"
     ]
    },
    {
     "data": {
      "text/plain": [
       "<keras.callbacks.History at 0x289c365ecf8>"
      ]
     },
     "execution_count": 81,
     "metadata": {},
     "output_type": "execute_result"
    }
   ],
   "source": [
    "# #Keras library\n",
    "# import keras\n",
    "# from keras.models import Sequential\n",
    "# from keras.layers import Dense\n",
    "# #Initialise ANN\n",
    "# classifier_ann = Sequential()\n",
    "# #1st hidden layer\n",
    "# classifier_ann.add(Dense(activation='relu',output_dim=6,init='uniform'))\n",
    "# #2nd hidden layer\n",
    "# classifier_ann.add(Dense(activation='relu',output_dim=5,init='uniform'))\n",
    "# #output layer\n",
    "# classifier_ann.add(Dense(activation='sigmoid',output_dim=1,init='uniform'))\n",
    "# #compile \n",
    "# classifier_ann.compile(optimizer='adam',loss='binary_crossentropy',metrics=['accuracy'])\n",
    "# #Fit the model\n",
    "# classifier_ann.fit(X_train,y_train,batch_size=100,epochs=50)"
   ]
  },
  {
   "cell_type": "code",
   "execution_count": 94,
   "metadata": {},
   "outputs": [],
   "source": [
    "ids = test['ID']\n",
    "predictions = model_rf.predict(test.drop('ID', axis=1))"
   ]
  },
  {
   "cell_type": "markdown",
   "metadata": {},
   "source": [
    "# Final Model  \"Random Forest\" and \"XGboost\" gives better result"
   ]
  },
  {
   "cell_type": "code",
   "execution_count": 95,
   "metadata": {},
   "outputs": [
    {
     "data": {
      "text/html": [
       "<div>\n",
       "<style scoped>\n",
       "    .dataframe tbody tr th:only-of-type {\n",
       "        vertical-align: middle;\n",
       "    }\n",
       "\n",
       "    .dataframe tbody tr th {\n",
       "        vertical-align: top;\n",
       "    }\n",
       "\n",
       "    .dataframe thead th {\n",
       "        text-align: right;\n",
       "    }\n",
       "</style>\n",
       "<table border=\"1\" class=\"dataframe\">\n",
       "  <thead>\n",
       "    <tr style=\"text-align: right;\">\n",
       "      <th></th>\n",
       "      <th>ID</th>\n",
       "      <th>Is_Lead</th>\n",
       "    </tr>\n",
       "  </thead>\n",
       "  <tbody>\n",
       "    <tr>\n",
       "      <th>0</th>\n",
       "      <td>VBENBARO</td>\n",
       "      <td>0</td>\n",
       "    </tr>\n",
       "    <tr>\n",
       "      <th>1</th>\n",
       "      <td>CCMEWNKY</td>\n",
       "      <td>0</td>\n",
       "    </tr>\n",
       "    <tr>\n",
       "      <th>2</th>\n",
       "      <td>VK3KGA9M</td>\n",
       "      <td>0</td>\n",
       "    </tr>\n",
       "    <tr>\n",
       "      <th>3</th>\n",
       "      <td>TT8RPZVC</td>\n",
       "      <td>0</td>\n",
       "    </tr>\n",
       "    <tr>\n",
       "      <th>4</th>\n",
       "      <td>SHQZEYTZ</td>\n",
       "      <td>0</td>\n",
       "    </tr>\n",
       "  </tbody>\n",
       "</table>\n",
       "</div>"
      ],
      "text/plain": [
       "         ID  Is_Lead\n",
       "0  VBENBARO        0\n",
       "1  CCMEWNKY        0\n",
       "2  VK3KGA9M        0\n",
       "3  TT8RPZVC        0\n",
       "4  SHQZEYTZ        0"
      ]
     },
     "execution_count": 95,
     "metadata": {},
     "output_type": "execute_result"
    }
   ],
   "source": [
    "output = pd.DataFrame({ 'ID' : ids, 'Is_Lead': predictions })\n",
    "output.to_csv('predictions_rf.csv', index = False)\n",
    "output.head()"
   ]
  }
 ],
 "metadata": {
  "kernelspec": {
   "display_name": "Python 3",
   "language": "python",
   "name": "python3"
  },
  "language_info": {
   "codemirror_mode": {
    "name": "ipython",
    "version": 3
   },
   "file_extension": ".py",
   "mimetype": "text/x-python",
   "name": "python",
   "nbconvert_exporter": "python",
   "pygments_lexer": "ipython3",
   "version": "3.7.3"
  }
 },
 "nbformat": 4,
 "nbformat_minor": 4
}
